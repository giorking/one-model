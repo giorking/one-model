{
 "cells": [
  {
   "cell_type": "code",
   "execution_count": 2,
   "metadata": {},
   "outputs": [
    {
     "name": "stderr",
     "output_type": "stream",
     "text": [
      "/root/anaconda3/envs/lisa/lib/python3.10/site-packages/tqdm/auto.py:22: TqdmWarning: IProgress not found. Please update jupyter and ipywidgets. See https://ipywidgets.readthedocs.io/en/stable/user_install.html\n",
      "  from .autonotebook import tqdm as notebook_tqdm\n"
     ]
    },
    {
     "name": "stdout",
     "output_type": "stream",
     "text": [
      "[2023-10-15 11:28:10,826] [INFO] [real_accelerator.py:158:get_accelerator] Setting ds_accelerator to cuda (auto detect)\n"
     ]
    }
   ],
   "source": [
    "from transformers import AutoTokenizer, CLIPTextModel\n",
    "import torch\n",
    "from torch.nn import CosineSimilarity\n",
    "from loguru import logger"
   ]
  },
  {
   "cell_type": "code",
   "execution_count": 3,
   "metadata": {},
   "outputs": [],
   "source": [
    "cossim = CosineSimilarity(dim=0, eps=1e-6)\n",
    "\n",
    "def calc_similarity(v1, v2):\n",
    "    return cossim(v1, v2)"
   ]
  },
  {
   "cell_type": "code",
   "execution_count": 5,
   "metadata": {},
   "outputs": [],
   "source": [
    "\n",
    "model_name_or_path = \"/opt/product/LLaVA/checkpoints/clip-vit-large-patch14\"\n",
    "# model_name_or_path = \"openai/clip-vit-large-patch14\"\n",
    "model = CLIPTextModel.from_pretrained(model_name_or_path)\n",
    "tokenizer = AutoTokenizer.from_pretrained(model_name_or_path)\n"
   ]
  },
  {
   "cell_type": "code",
   "execution_count": 6,
   "metadata": {},
   "outputs": [
    {
     "name": "stdout",
     "output_type": "stream",
     "text": [
      "panoptic segment the women <-> panoptic segment the women = 1.0000\n",
      "panoptic segment the women <-> segment a = 0.5076\n",
      "panoptic segment the women <-> segment the = 0.4969\n",
      "panoptic segment the women <-> segment all the object = 0.4840\n",
      "panoptic segment the women <-> segment everything = 0.4883\n",
      "panoptic segment the women <-> panoptic segment = 0.8298\n",
      "segment a <-> segment a = 1.0000\n",
      "segment a <-> segment the = 0.8692\n",
      "segment a <-> segment all the object = 0.7368\n",
      "segment a <-> segment everything = 0.7949\n",
      "segment a <-> panoptic segment = 0.5986\n",
      "segment the <-> segment the = 1.0000\n",
      "segment the <-> segment all the object = 0.7713\n",
      "segment the <-> segment everything = 0.8739\n",
      "segment the <-> panoptic segment = 0.5375\n",
      "segment all the object <-> segment all the object = 1.0000\n",
      "segment all the object <-> segment everything = 0.7523\n",
      "segment all the object <-> panoptic segment = 0.5184\n",
      "segment everything <-> segment everything = 1.0000\n",
      "segment everything <-> panoptic segment = 0.5340\n",
      "panoptic segment <-> panoptic segment = 1.0000\n"
     ]
    }
   ],
   "source": [
    "\n",
    "prompts = [\n",
    "        \"panoptic segment the women\",\n",
    "        \"segment a\",\n",
    "        \"segment the\",\n",
    "        \"segment all the object\",\n",
    "        \"segment everything\",\n",
    "        \"panoptic segment\",\n",
    "]\n",
    "inputs = tokenizer(\n",
    "        prompts,\n",
    "        padding=True,\n",
    "        return_tensors=\"pt\",\n",
    ")\n",
    "\n",
    " \n",
    "\n",
    "outputs = model(**inputs)\n",
    "last_hidden_state = outputs.last_hidden_state\n",
    "flattened_hidden_state = torch.flatten(last_hidden_state, 1, -1)\n",
    "for i1, label1 in enumerate(prompts):\n",
    "    for i2, label2 in enumerate(prompts):\n",
    "        if i2 >= i1:\n",
    "            print(\n",
    "                    f\"{label1} <-> {label2} = {calc_similarity(flattened_hidden_state[i1], flattened_hidden_state[i2]):.4f}\"\n",
    "                )"
   ]
  }
 ],
 "metadata": {
  "kernelspec": {
   "display_name": "lisa",
   "language": "python",
   "name": "python3"
  },
  "language_info": {
   "codemirror_mode": {
    "name": "ipython",
    "version": 3
   },
   "file_extension": ".py",
   "mimetype": "text/x-python",
   "name": "python",
   "nbconvert_exporter": "python",
   "pygments_lexer": "ipython3",
   "version": "3.10.12"
  },
  "orig_nbformat": 4
 },
 "nbformat": 4,
 "nbformat_minor": 2
}
