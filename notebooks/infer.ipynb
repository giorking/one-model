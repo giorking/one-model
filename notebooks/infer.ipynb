{
 "cells": [
  {
   "cell_type": "code",
   "execution_count": 1,
   "metadata": {},
   "outputs": [
    {
     "name": "stderr",
     "output_type": "stream",
     "text": [
      "/root/anaconda3/envs/lisa/lib/python3.10/site-packages/tqdm/auto.py:22: TqdmWarning: IProgress not found. Please update jupyter and ipywidgets. See https://ipywidgets.readthedocs.io/en/stable/user_install.html\n",
      "  from .autonotebook import tqdm as notebook_tqdm\n"
     ]
    },
    {
     "name": "stdout",
     "output_type": "stream",
     "text": [
      "[2023-10-15 18:15:38,370] [INFO] [real_accelerator.py:158:get_accelerator] Setting ds_accelerator to cuda (auto detect)\n"
     ]
    }
   ],
   "source": [
    "from loguru import logger\n",
    "import os\n",
    "from pathlib import Path\n",
    "from omegaconf import OmegaConf\n",
    "from one_model.common import Config\n",
    "from addict import Dict\n",
    "from one_model.inference import Infer\n",
    "\n"
   ]
  },
  {
   "cell_type": "code",
   "execution_count": 2,
   "metadata": {},
   "outputs": [],
   "source": [
    "cur_dir = '/opt/product/one_model/tests'\n",
    "config_path = os.path.join(cur_dir, \"test_config_13B.yaml\")\n",
    "config_path = '/opt/product/one_model/configs/infer/config_13B_decoders.yaml'"
   ]
  },
  {
   "cell_type": "code",
   "execution_count": 3,
   "metadata": {},
   "outputs": [],
   "source": [
    "\n",
    "image = os.path.join(cur_dir, \"view.jpg\")\n",
    "prompt = \"describe the pic\"\n",
    "\n",
    "vis_save_path = \"vis\"\n",
    "\n"
   ]
  },
  {
   "cell_type": "code",
   "execution_count": 4,
   "metadata": {},
   "outputs": [
    {
     "name": "stderr",
     "output_type": "stream",
     "text": [
      "\u001b[32m2023-10-15 18:16:50.228\u001b[0m | \u001b[1mINFO    \u001b[0m | \u001b[36mone_model.model.one_model\u001b[0m:\u001b[36m__init__\u001b[0m:\u001b[36m41\u001b[0m - \u001b[1mcurrent select device 0\u001b[0m\n",
      "\u001b[32m2023-10-15 18:16:50.714\u001b[0m | \u001b[1mINFO    \u001b[0m | \u001b[36mone_model.model.llm.llava\u001b[0m:\u001b[36mfrom_config\u001b[0m:\u001b[36m520\u001b[0m - \u001b[1mllava model config LlavaConfig {\n",
      "  \"_name_or_path\": \"xinlai/LISA-13B-llama2-v1\",\n",
      "  \"architectures\": [\n",
      "    \"LISAForCausalLM\"\n",
      "  ],\n",
      "  \"bos_token_id\": 1,\n",
      "  \"eos_token_id\": 2,\n",
      "  \"freeze_mm_mlp_adapter\": true,\n",
      "  \"hidden_act\": \"silu\",\n",
      "  \"hidden_size\": 5120,\n",
      "  \"image_aspect_ratio\": \"square\",\n",
      "  \"image_grid_pinpoints\": null,\n",
      "  \"initializer_range\": 0.02,\n",
      "  \"intermediate_size\": 13824,\n",
      "  \"max_position_embeddings\": 4096,\n",
      "  \"mm_hidden_size\": 1024,\n",
      "  \"mm_resampler_type\": null,\n",
      "  \"mm_use_im_patch_token\": false,\n",
      "  \"mm_use_im_start_end\": true,\n",
      "  \"mm_vision_select_feature\": \"patch\",\n",
      "  \"mm_vision_select_layer\": -2,\n",
      "  \"mm_vision_tower\": \"openai/clip-vit-large-patch14\",\n",
      "  \"model_type\": \"llava\",\n",
      "  \"num_attention_heads\": 40,\n",
      "  \"num_hidden_layers\": 40,\n",
      "  \"num_key_value_heads\": 40,\n",
      "  \"out_dim\": 256,\n",
      "  \"pad_token_id\": 0,\n",
      "  \"pretrain_mm_mlp_adapter\": null,\n",
      "  \"pretraining_tp\": 1,\n",
      "  \"rms_norm_eps\": 1e-05,\n",
      "  \"rope_scaling\": null,\n",
      "  \"rope_theta\": 10000.0,\n",
      "  \"tie_word_embeddings\": false,\n",
      "  \"torch_dtype\": \"bfloat16\",\n",
      "  \"train_mask_decoder\": true,\n",
      "  \"transformers_version\": \"4.33.2\",\n",
      "  \"tune_mm_mlp_adapter\": false,\n",
      "  \"tune_mm_vision_resampler\": false,\n",
      "  \"use_cache\": false,\n",
      "  \"use_mm_proj\": true,\n",
      "  \"vision_tower\": \"openai/clip-vit-large-patch14\",\n",
      "  \"vocab_size\": 32003\n",
      "}\n",
      "\u001b[0m\n",
      "\u001b[32m2023-10-15 18:16:50.716\u001b[0m | \u001b[1mINFO    \u001b[0m | \u001b[36mone_model.model.llm.llava\u001b[0m:\u001b[36mfrom_config\u001b[0m:\u001b[36m527\u001b[0m - \u001b[1mload_in_8bit True device 0, torch_dtype torch.float16\u001b[0m\n",
      "\u001b[32m2023-10-15 18:16:50.725\u001b[0m | \u001b[1mINFO    \u001b[0m | \u001b[36mone_model.model.llm.llava\u001b[0m:\u001b[36mfrom_config\u001b[0m:\u001b[36m555\u001b[0m - \u001b[1mseg_token_idx 32000\u001b[0m\n",
      "\u001b[32m2023-10-15 18:16:50.756\u001b[0m | \u001b[1mINFO    \u001b[0m | \u001b[36mone_model.model.llm.llava\u001b[0m:\u001b[36m__init__\u001b[0m:\u001b[36m44\u001b[0m - \u001b[1mseg token idx 32000\u001b[0m\n",
      "Loading checkpoint shards: 100%|██████████| 3/3 [00:38<00:00, 12.83s/it]\n",
      "You are resizing the embedding layer without providing a `pad_to_multiple_of` parameter. This means that the new embedding dimension will be 32003. This might induce some performance reduction as *Tensor Cores* will not be available. For more details about this, or help on choosing the correct value for resizing, refer to this guide: https://docs.nvidia.com/deeplearning/performance/dl-performance-matrix-multiplication/index.html#requirements-tc\n",
      "\u001b[32m2023-10-15 18:17:39.738\u001b[0m | \u001b[1mINFO    \u001b[0m | \u001b[36mone_model.model.encoder.clip_encoder\u001b[0m:\u001b[36m__init__\u001b[0m:\u001b[36m20\u001b[0m - \u001b[1mselect_layer -2, select_feature patch\u001b[0m\n",
      "\u001b[32m2023-10-15 18:17:45.008\u001b[0m | \u001b[1mINFO    \u001b[0m | \u001b[36mone_model.model.one_model\u001b[0m:\u001b[36minit_model\u001b[0m:\u001b[36m71\u001b[0m - \u001b[1miin_projector_config {'type': 'linear', 'in_features': 1024, 'out_features': 5120, 'freeze': True, 'ckpt_path': '${base_dir}/LLaVA/tools/13B_mm_projector.pt'}\u001b[0m\n",
      "\u001b[32m2023-10-15 18:17:45.056\u001b[0m | \u001b[1mINFO    \u001b[0m | \u001b[36mone_model.model.one_model\u001b[0m:\u001b[36minit_model\u001b[0m:\u001b[36m73\u001b[0m - \u001b[1mprojector LinerProjector(\n",
      "  (projector): Linear(in_features=1024, out_features=5120, bias=True)\n",
      ")\u001b[0m\n",
      "\u001b[32m2023-10-15 18:17:45.303\u001b[0m | \u001b[1mINFO    \u001b[0m | \u001b[36mone_model.model.decoder.sam_decoder\u001b[0m:\u001b[36m__init__\u001b[0m:\u001b[36m20\u001b[0m - \u001b[1msam decoder init, model_name_or_path /opt/product//llrs/checkpoints/sam_13b.pt, model_type sam_h\u001b[0m\n",
      "/root/anaconda3/envs/lisa/lib/python3.10/site-packages/torch/functional.py:504: UserWarning: torch.meshgrid: in an upcoming release, it will be required to pass the indexing argument. (Triggered internally at ../aten/src/ATen/native/TensorShape.cpp:3190.)\n",
      "  return _VF.meshgrid(tensors, **kwargs)  # type: ignore[attr-defined]\n"
     ]
    },
    {
     "name": "stdout",
     "output_type": "stream",
     "text": [
      "self.task_switch  {'coco': True, 'o365': False}\n"
     ]
    }
   ],
   "source": [
    "config: Config = Config(Dict(cfg_path=config_path))\n",
    "infer = Infer(config)\n",
    "infer.init_model()\n"
   ]
  },
  {
   "cell_type": "code",
   "execution_count": 5,
   "metadata": {},
   "outputs": [
    {
     "name": "stderr",
     "output_type": "stream",
     "text": [
      "\u001b[32m2023-10-15 18:18:11.541\u001b[0m | \u001b[1mINFO    \u001b[0m | \u001b[36m__main__\u001b[0m:\u001b[36m<module>\u001b[0m:\u001b[36m3\u001b[0m - \u001b[1mpredict image /opt/product/one_model/resources/truck.jpg, prompt can you segment all the object\u001b[0m\n",
      "\u001b[32m2023-10-15 18:18:12.939\u001b[0m | \u001b[1mINFO    \u001b[0m | \u001b[36mone_model.model.one_model\u001b[0m:\u001b[36mgenerate_input_ids\u001b[0m:\u001b[36m316\u001b[0m - \u001b[1mprompt [INST] <<SYS>>\n",
      "You are a helpful language and vision assistant. You are able to understand the visual content that the user provides, and assist the user with a variety of tasks using natural language.\n",
      "<</SYS>>\n",
      "\n",
      "<im_start><image><im_end>\n",
      "can you segment all the object [/INST]\u001b[0m\n",
      "/root/anaconda3/envs/lisa/lib/python3.10/site-packages/transformers/generation/utils.py:1417: UserWarning: You have modified the pretrained model configuration to control generation. This is a deprecated strategy to control generation and will be removed soon, in a future version. Please use a generation configuration file (see https://huggingface.co/docs/transformers/main_classes/text_generation )\n",
      "  warnings.warn(\n",
      "\u001b[32m2023-10-15 18:18:15.400\u001b[0m | \u001b[1mINFO    \u001b[0m | \u001b[36mone_model.model.one_model\u001b[0m:\u001b[36mgenerate\u001b[0m:\u001b[36m262\u001b[0m - \u001b[1mhidden_states torch.Size([1, 331, 256])\u001b[0m\n",
      "\u001b[32m2023-10-15 18:18:15.401\u001b[0m | \u001b[1mINFO    \u001b[0m | \u001b[36mone_model.model.one_model\u001b[0m:\u001b[36mgenerate\u001b[0m:\u001b[36m263\u001b[0m - \u001b[1mseg_token_mask shape torch.Size([1, 331])\u001b[0m\n",
      "\u001b[32m2023-10-15 18:18:15.476\u001b[0m | \u001b[1mINFO    \u001b[0m | \u001b[36mone_model.model.decoder.decoder_selector\u001b[0m:\u001b[36mneed_run\u001b[0m:\u001b[36m56\u001b[0m - \u001b[1mcan you segment all the object <-> describe the pic = 0.4591\u001b[0m\n",
      "\u001b[32m2023-10-15 18:18:15.478\u001b[0m | \u001b[1mINFO    \u001b[0m | \u001b[36mone_model.model.decoder.decoder_selector\u001b[0m:\u001b[36mneed_run\u001b[0m:\u001b[36m56\u001b[0m - \u001b[1mcan you segment all the object <-> describe the image = 0.4701\u001b[0m\n",
      "\u001b[32m2023-10-15 18:18:15.479\u001b[0m | \u001b[1mINFO    \u001b[0m | \u001b[36mone_model.model.decoder.decoder_selector\u001b[0m:\u001b[36mneed_run\u001b[0m:\u001b[36m56\u001b[0m - \u001b[1mcan you segment all the object <-> describe the picture = 0.4710\u001b[0m\n",
      "\u001b[32m2023-10-15 18:18:15.480\u001b[0m | \u001b[1mINFO    \u001b[0m | \u001b[36mone_model.model.decoder.decoder_selector\u001b[0m:\u001b[36mneed_run\u001b[0m:\u001b[36m56\u001b[0m - \u001b[1mcan you segment all the object <-> describe the photo = 0.4760\u001b[0m\n",
      "\u001b[32m2023-10-15 18:18:15.481\u001b[0m | \u001b[1mINFO    \u001b[0m | \u001b[36mone_model.model.decoder.decoder_selector\u001b[0m:\u001b[36mneed_run\u001b[0m:\u001b[36m56\u001b[0m - \u001b[1mcan you segment all the object <-> segment a = 0.5389\u001b[0m\n",
      "\u001b[32m2023-10-15 18:18:15.481\u001b[0m | \u001b[1mINFO    \u001b[0m | \u001b[36mone_model.model.decoder.decoder_selector\u001b[0m:\u001b[36mneed_run\u001b[0m:\u001b[36m56\u001b[0m - \u001b[1mcan you segment all the object <-> segment the = 0.5329\u001b[0m\n",
      "\u001b[32m2023-10-15 18:18:15.482\u001b[0m | \u001b[1mINFO    \u001b[0m | \u001b[36mone_model.model.decoder.decoder_selector\u001b[0m:\u001b[36mneed_run\u001b[0m:\u001b[36m56\u001b[0m - \u001b[1mcan you segment all the object <-> create a picture = 0.4799\u001b[0m\n",
      "\u001b[32m2023-10-15 18:18:15.483\u001b[0m | \u001b[1mINFO    \u001b[0m | \u001b[36mone_model.model.decoder.decoder_selector\u001b[0m:\u001b[36mneed_run\u001b[0m:\u001b[36m56\u001b[0m - \u001b[1mcan you segment all the object <-> generate a picture = 0.4418\u001b[0m\n",
      "\u001b[32m2023-10-15 18:18:15.484\u001b[0m | \u001b[1mINFO    \u001b[0m | \u001b[36mone_model.model.decoder.decoder_selector\u001b[0m:\u001b[36mneed_run\u001b[0m:\u001b[36m56\u001b[0m - \u001b[1mcan you segment all the object <-> generate a picture of = 0.4525\u001b[0m\n",
      "\u001b[32m2023-10-15 18:18:15.485\u001b[0m | \u001b[1mINFO    \u001b[0m | \u001b[36mone_model.model.decoder.decoder_selector\u001b[0m:\u001b[36mneed_run\u001b[0m:\u001b[36m56\u001b[0m - \u001b[1mcan you segment all the object <-> segment all the object = 0.5732\u001b[0m\n",
      "\u001b[32m2023-10-15 18:18:15.486\u001b[0m | \u001b[1mINFO    \u001b[0m | \u001b[36mone_model.model.decoder.decoder_selector\u001b[0m:\u001b[36mneed_run\u001b[0m:\u001b[36m56\u001b[0m - \u001b[1mcan you segment all the object <-> segment everything = 0.5293\u001b[0m\n",
      "\u001b[32m2023-10-15 18:18:15.487\u001b[0m | \u001b[1mINFO    \u001b[0m | \u001b[36mone_model.model.decoder.decoder_selector\u001b[0m:\u001b[36mneed_run\u001b[0m:\u001b[36m56\u001b[0m - \u001b[1mcan you segment all the object <-> panoptic segment = 0.4638\u001b[0m\n",
      "\u001b[32m2023-10-15 18:18:15.488\u001b[0m | \u001b[1mINFO    \u001b[0m | \u001b[36mone_model.model.decoder.decoder_selector\u001b[0m:\u001b[36mneed_run\u001b[0m:\u001b[36m56\u001b[0m - \u001b[1mcan you segment all the object <-> panoptic segment the = 0.4830\u001b[0m\n",
      "\u001b[32m2023-10-15 18:18:15.488\u001b[0m | \u001b[1mINFO    \u001b[0m | \u001b[36mone_model.model.decoder.decoder_selector\u001b[0m:\u001b[36mneed_run\u001b[0m:\u001b[36m58\u001b[0m - \u001b[1mbest match prompt segment all the object\u001b[0m\n",
      "\u001b[32m2023-10-15 18:18:15.490\u001b[0m | \u001b[1mINFO    \u001b[0m | \u001b[36mone_model.model.decoder.sam_decoder\u001b[0m:\u001b[36mforward\u001b[0m:\u001b[36m118\u001b[0m - \u001b[1mskip sam decoder infer\u001b[0m\n",
      "\u001b[32m2023-10-15 18:18:15.491\u001b[0m | \u001b[1mINFO    \u001b[0m | \u001b[36mone_model.model.one_model\u001b[0m:\u001b[36mgenerate\u001b[0m:\u001b[36m262\u001b[0m - \u001b[1mhidden_states torch.Size([1, 331, 5120])\u001b[0m\n",
      "\u001b[32m2023-10-15 18:18:15.491\u001b[0m | \u001b[1mINFO    \u001b[0m | \u001b[36mone_model.model.one_model\u001b[0m:\u001b[36mgenerate\u001b[0m:\u001b[36m263\u001b[0m - \u001b[1mseg_token_mask shape torch.Size([1, 331])\u001b[0m\n",
      "\u001b[32m2023-10-15 18:18:15.552\u001b[0m | \u001b[1mINFO    \u001b[0m | \u001b[36mone_model.model.decoder.decoder_selector\u001b[0m:\u001b[36mneed_run\u001b[0m:\u001b[36m56\u001b[0m - \u001b[1mcan you segment all the object <-> describe the pic = 0.4591\u001b[0m\n",
      "\u001b[32m2023-10-15 18:18:15.554\u001b[0m | \u001b[1mINFO    \u001b[0m | \u001b[36mone_model.model.decoder.decoder_selector\u001b[0m:\u001b[36mneed_run\u001b[0m:\u001b[36m56\u001b[0m - \u001b[1mcan you segment all the object <-> describe the image = 0.4701\u001b[0m\n",
      "\u001b[32m2023-10-15 18:18:15.555\u001b[0m | \u001b[1mINFO    \u001b[0m | \u001b[36mone_model.model.decoder.decoder_selector\u001b[0m:\u001b[36mneed_run\u001b[0m:\u001b[36m56\u001b[0m - \u001b[1mcan you segment all the object <-> describe the picture = 0.4710\u001b[0m\n",
      "\u001b[32m2023-10-15 18:18:15.555\u001b[0m | \u001b[1mINFO    \u001b[0m | \u001b[36mone_model.model.decoder.decoder_selector\u001b[0m:\u001b[36mneed_run\u001b[0m:\u001b[36m56\u001b[0m - \u001b[1mcan you segment all the object <-> describe the photo = 0.4760\u001b[0m\n",
      "\u001b[32m2023-10-15 18:18:15.556\u001b[0m | \u001b[1mINFO    \u001b[0m | \u001b[36mone_model.model.decoder.decoder_selector\u001b[0m:\u001b[36mneed_run\u001b[0m:\u001b[36m56\u001b[0m - \u001b[1mcan you segment all the object <-> segment a = 0.5389\u001b[0m\n",
      "\u001b[32m2023-10-15 18:18:15.557\u001b[0m | \u001b[1mINFO    \u001b[0m | \u001b[36mone_model.model.decoder.decoder_selector\u001b[0m:\u001b[36mneed_run\u001b[0m:\u001b[36m56\u001b[0m - \u001b[1mcan you segment all the object <-> segment the = 0.5329\u001b[0m\n",
      "\u001b[32m2023-10-15 18:18:15.558\u001b[0m | \u001b[1mINFO    \u001b[0m | \u001b[36mone_model.model.decoder.decoder_selector\u001b[0m:\u001b[36mneed_run\u001b[0m:\u001b[36m56\u001b[0m - \u001b[1mcan you segment all the object <-> create a picture = 0.4799\u001b[0m\n",
      "\u001b[32m2023-10-15 18:18:15.559\u001b[0m | \u001b[1mINFO    \u001b[0m | \u001b[36mone_model.model.decoder.decoder_selector\u001b[0m:\u001b[36mneed_run\u001b[0m:\u001b[36m56\u001b[0m - \u001b[1mcan you segment all the object <-> generate a picture = 0.4418\u001b[0m\n",
      "\u001b[32m2023-10-15 18:18:15.560\u001b[0m | \u001b[1mINFO    \u001b[0m | \u001b[36mone_model.model.decoder.decoder_selector\u001b[0m:\u001b[36mneed_run\u001b[0m:\u001b[36m56\u001b[0m - \u001b[1mcan you segment all the object <-> generate a picture of = 0.4525\u001b[0m\n",
      "\u001b[32m2023-10-15 18:18:15.561\u001b[0m | \u001b[1mINFO    \u001b[0m | \u001b[36mone_model.model.decoder.decoder_selector\u001b[0m:\u001b[36mneed_run\u001b[0m:\u001b[36m56\u001b[0m - \u001b[1mcan you segment all the object <-> segment all the object = 0.5732\u001b[0m\n",
      "\u001b[32m2023-10-15 18:18:15.561\u001b[0m | \u001b[1mINFO    \u001b[0m | \u001b[36mone_model.model.decoder.decoder_selector\u001b[0m:\u001b[36mneed_run\u001b[0m:\u001b[36m56\u001b[0m - \u001b[1mcan you segment all the object <-> segment everything = 0.5293\u001b[0m\n",
      "\u001b[32m2023-10-15 18:18:15.562\u001b[0m | \u001b[1mINFO    \u001b[0m | \u001b[36mone_model.model.decoder.decoder_selector\u001b[0m:\u001b[36mneed_run\u001b[0m:\u001b[36m56\u001b[0m - \u001b[1mcan you segment all the object <-> panoptic segment = 0.4638\u001b[0m\n",
      "\u001b[32m2023-10-15 18:18:15.563\u001b[0m | \u001b[1mINFO    \u001b[0m | \u001b[36mone_model.model.decoder.decoder_selector\u001b[0m:\u001b[36mneed_run\u001b[0m:\u001b[36m56\u001b[0m - \u001b[1mcan you segment all the object <-> panoptic segment the = 0.4830\u001b[0m\n",
      "\u001b[32m2023-10-15 18:18:15.564\u001b[0m | \u001b[1mINFO    \u001b[0m | \u001b[36mone_model.model.decoder.decoder_selector\u001b[0m:\u001b[36mneed_run\u001b[0m:\u001b[36m58\u001b[0m - \u001b[1mbest match prompt segment all the object\u001b[0m\n",
      "\u001b[32m2023-10-15 18:18:15.566\u001b[0m | \u001b[1mINFO    \u001b[0m | \u001b[36mone_model.model.decoder.openseed_decoder\u001b[0m:\u001b[36mforward\u001b[0m:\u001b[36m86\u001b[0m - \u001b[1mhandle image /opt/product/one_model/resources/truck.jpg\u001b[0m\n",
      "/root/anaconda3/envs/lisa/lib/python3.10/site-packages/torchvision/transforms/transforms.py:329: UserWarning: Argument 'interpolation' of type int is deprecated since 0.13 and will be removed in 0.15. Please use InterpolationMode enum.\n",
      "  warnings.warn(\n"
     ]
    },
    {
     "name": "stdout",
     "output_type": "stream",
     "text": [
      "lighter_color (1.0, 1.0, 1.0) type <class 'tuple'>\n",
      "lighter_color (1.0, 1.0, 1.0) type <class 'tuple'>\n",
      "lighter_color (1.0, 1.0, 1.0) type <class 'tuple'>\n"
     ]
    },
    {
     "name": "stderr",
     "output_type": "stream",
     "text": [
      "\u001b[32m2023-10-15 18:18:26.918\u001b[0m | \u001b[1mINFO    \u001b[0m | \u001b[36mone_model.inference.infer\u001b[0m:\u001b[36mpredict\u001b[0m:\u001b[36m33\u001b[0m - \u001b[1mprompt can you segment all the object, text output Sure, it is[SEG] .\u001b[0m\n",
      "\u001b[32m2023-10-15 18:18:26.920\u001b[0m | \u001b[1mINFO    \u001b[0m | \u001b[36mone_model.inference.infer\u001b[0m:\u001b[36mpredict\u001b[0m:\u001b[36m38\u001b[0m - \u001b[1mpred_masks 1\u001b[0m\n",
      "\u001b[32m2023-10-15 18:18:26.921\u001b[0m | \u001b[1mINFO    \u001b[0m | \u001b[36mone_model.inference.infer\u001b[0m:\u001b[36mpredict\u001b[0m:\u001b[36m59\u001b[0m - \u001b[1msave segment to vis/truck.jpg\u001b[0m\n",
      "\u001b[32m2023-10-15 18:18:26.977\u001b[0m | \u001b[1mINFO    \u001b[0m | \u001b[36m__main__\u001b[0m:\u001b[36m<module>\u001b[0m:\u001b[36m5\u001b[0m - \u001b[1mpredict text Sure, it is[SEG] .\u001b[0m\n"
     ]
    },
    {
     "ename": "",
     "evalue": "",
     "output_type": "error",
     "traceback": [
      "\u001b[1;31m在当前单元格或上一个单元格中执行代码时 Kernel 崩溃。请查看单元格中的代码，以确定故障的可能原因。有关详细信息，请单击 <a href='https://aka.ms/vscodeJupyterKernelCrash'>此处</a>。有关更多详细信息，请查看 Jupyter <a href='command:jupyter.viewOutput'>log</a>。"
     ]
    }
   ],
   "source": [
    "image = '/opt/product/one_model/resources/truck.jpg'\n",
    "prompt = \"can you segment all the object\"\n",
    "logger.info(\"predict image {}, prompt {}\", image, prompt)\n",
    "predict_text, image_path = infer.predict(image, prompt, vis_save_path)\n",
    "logger.info(\"predict text {}\", predict_text)"
   ]
  },
  {
   "cell_type": "code",
   "execution_count": 3,
   "metadata": {},
   "outputs": [
    {
     "data": {
      "text/plain": [
       "'The image is a black and white photo of a wooden dock extending out over a calm lake. The dock is surrounded by a serene, natural setting with a mountain in the background, creating a peaceful and picturesque scene. The still water of the lake reflects the tranquility of the environment, inviting viewers to appreciate the beauty of the outdoors.'"
      ]
     },
     "execution_count": 3,
     "metadata": {},
     "output_type": "execute_result"
    }
   ],
   "source": [
    "predict_text"
   ]
  },
  {
   "cell_type": "code",
   "execution_count": 4,
   "metadata": {},
   "outputs": [],
   "source": [
    "image_path"
   ]
  },
  {
   "cell_type": "code",
   "execution_count": 8,
   "metadata": {},
   "outputs": [],
   "source": [
    "# infer.model.named_parameters"
   ]
  }
 ],
 "metadata": {
  "kernelspec": {
   "display_name": "lisa",
   "language": "python",
   "name": "python3"
  },
  "language_info": {
   "codemirror_mode": {
    "name": "ipython",
    "version": 3
   },
   "file_extension": ".py",
   "mimetype": "text/x-python",
   "name": "python",
   "nbconvert_exporter": "python",
   "pygments_lexer": "ipython3",
   "version": "3.10.12"
  },
  "orig_nbformat": 4
 },
 "nbformat": 4,
 "nbformat_minor": 2
}
